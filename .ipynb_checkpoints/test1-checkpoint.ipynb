{
 "cells": [
  {
   "cell_type": "code",
   "execution_count": null,
   "id": "60288651-f8b6-40ac-a660-a8fd28f5a89c",
   "metadata": {},
   "outputs": [],
   "source": [
    "import numpy as np\n",
    "import pandas as pd"
   ]
  },
  {
   "cell_type": "code",
   "execution_count": null,
   "id": "cfe461d1-c15e-4b7d-a346-3ecd77ae3933",
   "metadata": {},
   "outputs": [],
   "source": [
    "from urllib.request import urlretrieve\n",
    "\n",
    "urlretrieve('google.com', 'test.csv')"
   ]
  },
  {
   "cell_type": "code",
   "execution_count": null,
   "id": "0c39b19e-52e5-4d2b-b0b6-1160e77f03c5",
   "metadata": {},
   "outputs": [],
   "source": [
    "np.eye((3))"
   ]
  },
  {
   "cell_type": "code",
   "execution_count": null,
   "id": "d1567521-32f0-4630-86e1-528926187646",
   "metadata": {},
   "outputs": [],
   "source": [
    "import os  \n",
    "      \n",
    "# Get the current working  \n",
    "# directory (CWD)  \n",
    "cwd = os.getcwd()  \n",
    "      \n",
    "# Print the current working  \n",
    "# directory (CWD)  \n",
    "print(\"Current working directory:\", cwd)  "
   ]
  },
  {
   "cell_type": "code",
   "execution_count": null,
   "id": "b94e509d-7a67-4ea4-9d2d-f26c90db9da9",
   "metadata": {},
   "outputs": [],
   "source": []
  }
 ],
 "metadata": {
  "kernelspec": {
   "display_name": "Python 3 (ipykernel)",
   "language": "python",
   "name": "python3"
  },
  "language_info": {
   "codemirror_mode": {
    "name": "ipython",
    "version": 3
   },
   "file_extension": ".py",
   "mimetype": "text/x-python",
   "name": "python",
   "nbconvert_exporter": "python",
   "pygments_lexer": "ipython3",
   "version": "3.11.5"
  }
 },
 "nbformat": 4,
 "nbformat_minor": 5
}
