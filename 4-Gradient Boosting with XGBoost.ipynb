{
 "cells": [
  {
   "cell_type": "markdown",
   "id": "d860278b-34f6-4e6a-a149-32413b19ecff",
   "metadata": {},
   "source": [
    "# Gradient Boosting Machines (GBMs) with XGBoost\n",
    "\n",
    "![](https://i.imgur.com/6MYc56a.png)"
   ]
  },
  {
   "cell_type": "markdown",
   "id": "1c3fa6d6-3327-4313-ab87-bd939b5a9960",
   "metadata": {},
   "source": [
    "The following topics are covered in this tutorial:\r\n",
    "\r\n",
    "- Downloading a real-world dataset from a Kaggle competition\r\n",
    "- Performing feature engineering and prepare the dataset for training\r\n",
    "- Training and interpreting a gradient boosting model using XGBoost\r\n",
    "- Training with KFold cross validation and ensembling results\r\n",
    "- Configuring the gradient boosting model and tuning hyperparamters"
   ]
  },
  {
   "cell_type": "markdown",
   "id": "669a567f-2311-444a-ad7a-c15d7039bd5e",
   "metadata": {},
   "source": [
    "Let's begin by installing the required libraries."
   ]
  },
  {
   "cell_type": "code",
   "execution_count": 1,
   "id": "ae03dec9-6aa5-4deb-bc44-0d8127a48a8e",
   "metadata": {},
   "outputs": [],
   "source": [
    "#restart the kernel after installation\n",
    "!pip install numpy pandas-profiling matplotlib seaborn --quiet"
   ]
  },
  {
   "cell_type": "code",
   "execution_count": null,
   "id": "1410daa8-6882-4a3b-b8ba-aab0f28605ed",
   "metadata": {},
   "outputs": [],
   "source": [
    "!pip install opendatasets xgboost graphviz lightgbm scikit-learn xgboost lightgbm --upgrade --quiet"
   ]
  },
  {
   "cell_type": "markdown",
   "id": "0e63b298-3626-488b-963c-7a78dc199842",
   "metadata": {},
   "source": [
    "## Problem Statement\n",
    "\n",
    "This tutorial takes a practical and coding-focused approach. We'll learn gradient boosting by applying it to a real-world dataset from the [Rossmann Store Sales](https://www.kaggle.com/c/rossmann-store-sales) competition on Kaggle:\n",
    "\n",
    "> Rossmann operates over 3,000 drug stores in 7 European countries. Currently, Rossmann store managers are tasked with predicting their daily sales for up to six weeks in advance. Store sales are influenced by many factors, including promotions, competition, school and state holidays, seasonality, and locality. \n",
    ">\n",
    ">\n",
    "> With thousands of individual managers predicting sales based on their unique circumstances, the accuracy of results can be quite varied. You are provided with historical sales data for 1,115 Rossmann stores. The task is to forecast the \"Sales\" column for the test set. Note that some stores in the dataset were temporarily closed for refurbishment.\n",
    ">\n",
    "> View and download the data here: https://www.kaggle.com/c/rossmann-store-sales/data"
   ]
  },
  {
   "cell_type": "markdown",
   "id": "d6afb544-234d-48f1-81f1-1fed22040cf8",
   "metadata": {},
   "source": [
    "## Downloading the Data\n",
    "\n",
    "We can download the dataset from Kaggle directly within the Jupyter notebook using the `opendatasets` library. Make sure to [accept the competition rules](https://www.kaggle.com/c/rossmann-store-sales/rules) before executing the following cell."
   ]
  },
  {
   "cell_type": "code",
   "execution_count": null,
   "id": "175a90ca-4d80-4b67-baec-4106d5ef81db",
   "metadata": {},
   "outputs": [],
   "source": [
    "import os\n",
    "import opendatasets as od\n",
    "import pandas as pd\n",
    "pd.set_option(\"display.max_columns\", 120)\n",
    "pd.set_option(\"display.max_rows\", 120)"
   ]
  },
  {
   "cell_type": "code",
   "execution_count": null,
   "id": "9f9a6203-be22-4c87-a17c-bf9f99279b05",
   "metadata": {},
   "outputs": [],
   "source": [
    "od.download('https://www.kaggle.com/c/rossmann-store-sales')"
   ]
  },
  {
   "cell_type": "code",
   "execution_count": null,
   "id": "b28697f4-be59-41c9-aa04-a4ef8e145606",
   "metadata": {},
   "outputs": [],
   "source": [
    "os.listdir('rossmann-store-sales')"
   ]
  },
  {
   "cell_type": "code",
   "execution_count": null,
   "id": "a7cb6ba5-8c1e-42e0-921f-fe184c7814ab",
   "metadata": {},
   "outputs": [],
   "source": []
  },
  {
   "cell_type": "code",
   "execution_count": null,
   "id": "eddff399-9fb2-4e5d-a9d6-e583b4a66c73",
   "metadata": {},
   "outputs": [],
   "source": []
  },
  {
   "cell_type": "code",
   "execution_count": null,
   "id": "f09029bf-3388-44bb-97a5-48c37afd511d",
   "metadata": {},
   "outputs": [],
   "source": []
  },
  {
   "cell_type": "code",
   "execution_count": null,
   "id": "3e780ada-f774-4ea7-9617-84e8628ccee2",
   "metadata": {},
   "outputs": [],
   "source": []
  },
  {
   "cell_type": "code",
   "execution_count": null,
   "id": "f5c50285-80cb-4f57-ae37-c89f58f2dda9",
   "metadata": {},
   "outputs": [],
   "source": []
  },
  {
   "cell_type": "code",
   "execution_count": null,
   "id": "7ed4c7ac-60c5-4225-b03a-65547ebd2f59",
   "metadata": {},
   "outputs": [],
   "source": []
  },
  {
   "cell_type": "code",
   "execution_count": null,
   "id": "d7e40bed-0cd7-4304-a4cc-c0c2da39d481",
   "metadata": {},
   "outputs": [],
   "source": []
  },
  {
   "cell_type": "code",
   "execution_count": null,
   "id": "90365e62-2ff2-47cf-8f97-7450dc7cabb1",
   "metadata": {},
   "outputs": [],
   "source": []
  },
  {
   "cell_type": "code",
   "execution_count": null,
   "id": "a1f4d403-7997-4b67-a099-5c472849d01a",
   "metadata": {},
   "outputs": [],
   "source": []
  },
  {
   "cell_type": "code",
   "execution_count": null,
   "id": "270d0806-1209-4ecd-8cf5-28c6be34ef17",
   "metadata": {},
   "outputs": [],
   "source": []
  },
  {
   "cell_type": "code",
   "execution_count": null,
   "id": "8629c6a1-d1b6-4f54-8319-6b5b09a03b16",
   "metadata": {},
   "outputs": [],
   "source": []
  },
  {
   "cell_type": "code",
   "execution_count": null,
   "id": "539fe9ca-1a33-468c-abad-27eef91d3e1b",
   "metadata": {},
   "outputs": [],
   "source": []
  },
  {
   "cell_type": "code",
   "execution_count": null,
   "id": "e3d6e0ed-9658-447d-a05e-dd9796b5ee1f",
   "metadata": {},
   "outputs": [],
   "source": []
  },
  {
   "cell_type": "code",
   "execution_count": null,
   "id": "4101f7ba-bbe6-4660-a0d3-9b86cdad59d0",
   "metadata": {},
   "outputs": [],
   "source": []
  },
  {
   "cell_type": "code",
   "execution_count": null,
   "id": "22421aef-3be7-4055-9cf5-3c6161dd5710",
   "metadata": {},
   "outputs": [],
   "source": []
  },
  {
   "cell_type": "code",
   "execution_count": null,
   "id": "a8b370e7-f5f4-431e-9bee-e27ecb16c190",
   "metadata": {},
   "outputs": [],
   "source": []
  },
  {
   "cell_type": "code",
   "execution_count": null,
   "id": "47ea7550-1354-4aae-9a9b-43040ad27c08",
   "metadata": {},
   "outputs": [],
   "source": []
  },
  {
   "cell_type": "code",
   "execution_count": null,
   "id": "823488ad-72e7-478c-8d53-e94e778cdd3f",
   "metadata": {},
   "outputs": [],
   "source": []
  },
  {
   "cell_type": "code",
   "execution_count": null,
   "id": "fa9de133-047b-4c7f-aaf8-9ed60b2e4b7e",
   "metadata": {},
   "outputs": [],
   "source": []
  },
  {
   "cell_type": "code",
   "execution_count": null,
   "id": "f6982bf5-1c65-4105-9971-57cb41b3a848",
   "metadata": {},
   "outputs": [],
   "source": []
  },
  {
   "cell_type": "code",
   "execution_count": null,
   "id": "f3a6916f-389b-4045-b7a7-b288b28e92d5",
   "metadata": {},
   "outputs": [],
   "source": []
  },
  {
   "cell_type": "code",
   "execution_count": null,
   "id": "722226d6-6103-4fe8-a29e-8a18177d6c6b",
   "metadata": {},
   "outputs": [],
   "source": []
  },
  {
   "cell_type": "code",
   "execution_count": null,
   "id": "6d601667-f9c4-4b07-908c-f334cf8e6aa6",
   "metadata": {},
   "outputs": [],
   "source": []
  },
  {
   "cell_type": "code",
   "execution_count": null,
   "id": "c59eaf1d-4724-4972-8d3d-310de650f45a",
   "metadata": {},
   "outputs": [],
   "source": []
  },
  {
   "cell_type": "code",
   "execution_count": null,
   "id": "c94cde52-4fa9-4a34-927c-9fd9a5d3221e",
   "metadata": {},
   "outputs": [],
   "source": []
  },
  {
   "cell_type": "code",
   "execution_count": null,
   "id": "30be3d02-1458-4424-aabd-677d326dea3d",
   "metadata": {},
   "outputs": [],
   "source": []
  },
  {
   "cell_type": "code",
   "execution_count": null,
   "id": "589c19e0-a00f-40b6-96a5-f6fe853d6e6b",
   "metadata": {},
   "outputs": [],
   "source": []
  },
  {
   "cell_type": "code",
   "execution_count": null,
   "id": "fed51293-381f-446b-b77e-d7e2a47f9df7",
   "metadata": {},
   "outputs": [],
   "source": []
  },
  {
   "cell_type": "code",
   "execution_count": null,
   "id": "dc65b7c2-e00d-4343-a5a6-0b5508bd3f80",
   "metadata": {},
   "outputs": [],
   "source": []
  },
  {
   "cell_type": "code",
   "execution_count": null,
   "id": "9143e6fe-6479-47ac-a361-db637b1f2bbe",
   "metadata": {},
   "outputs": [],
   "source": []
  },
  {
   "cell_type": "code",
   "execution_count": null,
   "id": "cabd31bb-8817-43a3-bda1-b6d20f6ea1d6",
   "metadata": {},
   "outputs": [],
   "source": []
  },
  {
   "cell_type": "code",
   "execution_count": null,
   "id": "8402390c-5310-4696-871f-c824d25c1077",
   "metadata": {},
   "outputs": [],
   "source": []
  },
  {
   "cell_type": "code",
   "execution_count": null,
   "id": "f61bd01d-528b-4c51-b024-fe4bb0842654",
   "metadata": {},
   "outputs": [],
   "source": []
  },
  {
   "cell_type": "code",
   "execution_count": null,
   "id": "05382f77-add8-44f7-b8e3-c4d2707de244",
   "metadata": {},
   "outputs": [],
   "source": []
  },
  {
   "cell_type": "code",
   "execution_count": null,
   "id": "87aef2ed-932f-42bb-8532-f504478c5ac8",
   "metadata": {},
   "outputs": [],
   "source": []
  },
  {
   "cell_type": "code",
   "execution_count": null,
   "id": "acc90dd8-d126-4e52-9d56-1f0d1d450f10",
   "metadata": {},
   "outputs": [],
   "source": []
  },
  {
   "cell_type": "code",
   "execution_count": null,
   "id": "20f1eac2-2e96-4c4e-a8c9-cf34fd4300ad",
   "metadata": {},
   "outputs": [],
   "source": []
  },
  {
   "cell_type": "code",
   "execution_count": null,
   "id": "a22bef4a-5dec-470c-9f61-56b195a9aca4",
   "metadata": {},
   "outputs": [],
   "source": []
  },
  {
   "cell_type": "code",
   "execution_count": null,
   "id": "c3040301-1149-4fc2-b1e0-829f5d2b01d5",
   "metadata": {},
   "outputs": [],
   "source": []
  },
  {
   "cell_type": "code",
   "execution_count": null,
   "id": "9d235b17-c068-4543-883b-11e6e8a19744",
   "metadata": {},
   "outputs": [],
   "source": []
  },
  {
   "cell_type": "code",
   "execution_count": null,
   "id": "6e2cd10f-0c6d-42b5-9fee-73a6ef3b85a5",
   "metadata": {},
   "outputs": [],
   "source": []
  },
  {
   "cell_type": "code",
   "execution_count": null,
   "id": "019fbaee-985f-4b0e-b528-f111b209631b",
   "metadata": {},
   "outputs": [],
   "source": []
  },
  {
   "cell_type": "code",
   "execution_count": null,
   "id": "f3ca3de7-72f8-45f5-91ce-29317b36f290",
   "metadata": {},
   "outputs": [],
   "source": []
  },
  {
   "cell_type": "code",
   "execution_count": null,
   "id": "9f064673-74b9-4259-959d-64017a087397",
   "metadata": {},
   "outputs": [],
   "source": []
  },
  {
   "cell_type": "code",
   "execution_count": null,
   "id": "aba46a37-737a-4869-aefa-187d948c334a",
   "metadata": {},
   "outputs": [],
   "source": []
  },
  {
   "cell_type": "code",
   "execution_count": null,
   "id": "d7e65e30-9039-4a19-8557-c5a1903bfbeb",
   "metadata": {},
   "outputs": [],
   "source": []
  },
  {
   "cell_type": "code",
   "execution_count": null,
   "id": "22580800-9674-4068-8c85-8d14ef1fd7ec",
   "metadata": {},
   "outputs": [],
   "source": []
  },
  {
   "cell_type": "code",
   "execution_count": null,
   "id": "07a694e6-9773-489f-9f6d-9a3784e7ef9e",
   "metadata": {},
   "outputs": [],
   "source": []
  },
  {
   "cell_type": "code",
   "execution_count": null,
   "id": "a36f51dd-b37f-4347-a851-0430291984b4",
   "metadata": {},
   "outputs": [],
   "source": []
  },
  {
   "cell_type": "code",
   "execution_count": null,
   "id": "ab53169e-177c-416d-abdc-f72492ab3120",
   "metadata": {},
   "outputs": [],
   "source": []
  },
  {
   "cell_type": "code",
   "execution_count": null,
   "id": "433129e2-fb66-432e-9f03-435a2f2ce1ce",
   "metadata": {},
   "outputs": [],
   "source": []
  },
  {
   "cell_type": "code",
   "execution_count": null,
   "id": "91d2dc42-1c15-4baf-abcf-eca67961cd09",
   "metadata": {},
   "outputs": [],
   "source": []
  },
  {
   "cell_type": "code",
   "execution_count": null,
   "id": "583ec6a3-2ba7-4a86-8206-3fa6d4c3bc3c",
   "metadata": {},
   "outputs": [],
   "source": []
  },
  {
   "cell_type": "code",
   "execution_count": null,
   "id": "dc1235f1-47d9-49f2-a721-9544fbf6b3d5",
   "metadata": {},
   "outputs": [],
   "source": []
  },
  {
   "cell_type": "code",
   "execution_count": null,
   "id": "df861331-29c5-46e8-a81a-049e277e2bdb",
   "metadata": {},
   "outputs": [],
   "source": []
  },
  {
   "cell_type": "code",
   "execution_count": null,
   "id": "0a780dda-6cb7-4865-9fb4-449972cae8c4",
   "metadata": {},
   "outputs": [],
   "source": []
  },
  {
   "cell_type": "code",
   "execution_count": null,
   "id": "39afc631-ab4e-4b85-bca4-1a554095736b",
   "metadata": {},
   "outputs": [],
   "source": []
  },
  {
   "cell_type": "code",
   "execution_count": null,
   "id": "c98c5552-d393-4c21-8b1b-beaec10e01bf",
   "metadata": {},
   "outputs": [],
   "source": []
  },
  {
   "cell_type": "code",
   "execution_count": null,
   "id": "b61324f2-96f4-4805-aa7b-769422e3126f",
   "metadata": {},
   "outputs": [],
   "source": []
  },
  {
   "cell_type": "code",
   "execution_count": null,
   "id": "16306866-0b2c-4128-bbaf-dc6dd6b800d5",
   "metadata": {},
   "outputs": [],
   "source": []
  },
  {
   "cell_type": "code",
   "execution_count": null,
   "id": "65a40322-ee3f-40fe-932e-05a1a4b6ac48",
   "metadata": {},
   "outputs": [],
   "source": []
  },
  {
   "cell_type": "code",
   "execution_count": null,
   "id": "5af443a1-9d28-4cfb-a2d6-da40c58a7fa8",
   "metadata": {},
   "outputs": [],
   "source": []
  },
  {
   "cell_type": "code",
   "execution_count": null,
   "id": "546684bc-6f3c-44b4-a9f3-9eab59471c73",
   "metadata": {},
   "outputs": [],
   "source": []
  },
  {
   "cell_type": "code",
   "execution_count": null,
   "id": "7a9127df-79d5-4c1a-b96b-68e415000291",
   "metadata": {},
   "outputs": [],
   "source": []
  },
  {
   "cell_type": "code",
   "execution_count": null,
   "id": "5321dc9c-913a-434d-97de-9c79180d2d3d",
   "metadata": {},
   "outputs": [],
   "source": []
  },
  {
   "cell_type": "code",
   "execution_count": null,
   "id": "7b786659-90ae-457b-935e-453d038fd356",
   "metadata": {},
   "outputs": [],
   "source": []
  },
  {
   "cell_type": "code",
   "execution_count": null,
   "id": "7132af52-b421-4e31-8c07-b7ae106f53d3",
   "metadata": {},
   "outputs": [],
   "source": []
  },
  {
   "cell_type": "code",
   "execution_count": null,
   "id": "2dad643a-057d-4810-b109-ca2926aba224",
   "metadata": {},
   "outputs": [],
   "source": []
  },
  {
   "cell_type": "code",
   "execution_count": null,
   "id": "6ae71fba-5556-4aca-a949-519e4e0b2541",
   "metadata": {},
   "outputs": [],
   "source": []
  },
  {
   "cell_type": "code",
   "execution_count": null,
   "id": "b196e0c3-eab1-4d64-b7a4-ed1f8a383e2e",
   "metadata": {},
   "outputs": [],
   "source": []
  },
  {
   "cell_type": "code",
   "execution_count": null,
   "id": "34284820-6449-47f2-abbd-4e7395dffd93",
   "metadata": {},
   "outputs": [],
   "source": []
  },
  {
   "cell_type": "code",
   "execution_count": null,
   "id": "e7b59233-9983-4b2b-a72f-0286f2836f4a",
   "metadata": {},
   "outputs": [],
   "source": []
  },
  {
   "cell_type": "code",
   "execution_count": null,
   "id": "4308ee37-36c5-4040-878e-aa40aa558e0d",
   "metadata": {},
   "outputs": [],
   "source": []
  },
  {
   "cell_type": "code",
   "execution_count": null,
   "id": "b0c3b6bc-747f-4c74-9fc4-19bed13ef4d3",
   "metadata": {},
   "outputs": [],
   "source": []
  }
 ],
 "metadata": {
  "kernelspec": {
   "display_name": "Python 3 (ipykernel)",
   "language": "python",
   "name": "python3"
  },
  "language_info": {
   "codemirror_mode": {
    "name": "ipython",
    "version": 3
   },
   "file_extension": ".py",
   "mimetype": "text/x-python",
   "name": "python",
   "nbconvert_exporter": "python",
   "pygments_lexer": "ipython3",
   "version": "3.11.5"
  }
 },
 "nbformat": 4,
 "nbformat_minor": 5
}
